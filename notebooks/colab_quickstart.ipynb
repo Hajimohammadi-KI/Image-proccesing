﻿{
  "cells": [
    {
      "cell_type": "markdown",
      "metadata": {},
      "source": [
        "# xAI Proj B · Google Colab Quickstart\n",
        "Use this notebook when running from Colab. It installs dependencies, optionally mounts Google Drive for datasets,\n",
        "then runs the CIFAR-10 baseline and evaluation commands from the repo CLI."
      ]
    },
    {
      "cell_type": "code",
      "metadata": {
        "id": "setup"
      },
      "execution_count": null,
      "outputs": [],
      "source": [
        "# install project requirements (CPU wheels run fine on Colab GPUs)\n",
        "%pip install -r requirements.txt"
      ]
    },
    {
      "cell_type": "code",
      "metadata": {
        "id": "drive"
      },
      "execution_count": null,
      "outputs": [],
      "source": [
        "# OPTIONAL: mount Google Drive if your ImageNetSubset or own_dataset lives there\n",
        "from google.colab import drive\n",
        "drive.mount('/content/drive')\n",
        "# Example: symlink the ImageNet subset\n",
        "#!ln -s /content/drive/MyDrive/ImageNetSubset ImageNetSubset"
      ]
    },
    {
      "cell_type": "code",
      "metadata": {
        "id": "train"
      },
      "execution_count": null,
      "outputs": [],
      "source": [
        "# Train the CIFAR-10 baseline. Adjust --output-dir if you want to save to Drive.\n",
        "!python -m xai_proj_b.cli train --config configs/cifar10_baseline.yaml --output-dir /content/runs"
      ]
    },
    {
      "cell_type": "code",
      "metadata": {
        "id": "eval_cifar"
      },
      "execution_count": null,
      "outputs": [],
      "source": [
        "# Evaluate the best checkpoint on CIFAR-10 (update glob if you changed --output-dir).\n",
        "!python -m xai_proj_b.cli evaluate --config configs/cifar10_baseline.yaml \\\n",
        "    --checkpoint /content/runs/cifar10_baseline/*/seed_0/best.pt --dataset cifar10"
      ]
    },
    {
      "cell_type": "code",
      "metadata": {
        "id": "eval_robust"
      },
      "execution_count": null,
      "outputs": [],
      "source": [
        "# OPTIONAL: score the checkpoint on the custom robustness dataset if available\n",
        "# !python -m xai_proj_b.cli robustness --config configs/cifar10_baseline.yaml \\\n",
        "#     --checkpoint /content/runs/cifar10_baseline/*/seed_0/best.pt --data-root data/own_dataset"
      ]
    }
  ],
  "metadata": {
    "kernelspec": {
      "display_name": "Python 3",
      "language": "python",
      "name": "python3"
    },
    "language_info": {
      "name": "python",
      "version": "3"
    }
  },
  "nbformat": 4,
  "nbformat_minor": 5
}
